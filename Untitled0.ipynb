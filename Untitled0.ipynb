{
  "nbformat": 4,
  "nbformat_minor": 0,
  "metadata": {
    "colab": {
      "provenance": []
    },
    "kernelspec": {
      "name": "python3",
      "display_name": "Python 3"
    },
    "language_info": {
      "name": "python"
    }
  },
  "cells": [
    {
      "cell_type": "markdown",
      "source": [
        "1. What are data structures, and why are they important?\n",
        "> Data structures are specialized formats for organizing, storing, and managing data in computer memory, providing efficient ways to insert, delete, and retrieve information."
      ],
      "metadata": {
        "id": "bBDa_cylqYFh"
      }
    },
    {
      "cell_type": "markdown",
      "source": [
        "2.  Explain the difference between mutable and immutable data types with examples.\n",
        ">he distinction between mutable and immutable data types lies in whether their state can be altered after creation.\n",
        "Mutable Data Types:\n",
        "Mutable data types are those whose values or internal state can be modified after they are created. When a mutable object is changed, the object itself is altered in memory, and any variables referencing that object will reflect the changes.\n",
        "Examples: Lists, dictionaries, sets in Python. In other languages, arrays or objects with modifiable properties.mmutable Data Types:\n",
        "Immutable data types are those whose values or internal state cannot be modified after they are created. Any operation that appears to \"change\" an immutable object actually creates a new object with the modified value, leaving the original object untouched.\n",
        "Examples: Numbers (integers, floats), strings, tuples in Python. In other languages, const variables for primitives or string literals.\n"
      ],
      "metadata": {
        "id": "4SAFlrqJqTno"
      }
    },
    {
      "cell_type": "markdown",
      "source": [
        "3. What are the main differences between lists and tuples in Python?\n",
        ">the main differences between lists and tuples in Python 3 are centered around their mutability, syntax, performance, and typical use cases.\n",
        "Lists are mutable: Elements within a list can be added, removed, or modified after the list has been created.\n",
        "Tuples are immutable: Once a tuple is created, its elements cannot be changed, added, or removed."
      ],
      "metadata": {
        "id": "4qYPQfRdrHnb"
      }
    },
    {
      "cell_type": "markdown",
      "source": [
        "4. Describe how dictionaries store data.\n",
        ">Dictionaries, also known as associative arrays, hash maps, or hash tables in various programming languages, store data as collections of key-value pairs. This structure allows for efficient retrieval of values based on their associated keys."
      ],
      "metadata": {
        "id": "pEVhWgk3rcLP"
      }
    },
    {
      "cell_type": "markdown",
      "source": [
        "5. Why might you use a set instead of a list in Python?\n",
        ">Ensuring Uniqueness: Sets inherently store only unique elements. If you need a collection where duplicate values are not allowed, a set automatically handles this, eliminating the need for manual duplicate removal."
      ],
      "metadata": {
        "id": "eQMt7s4nr3Jl"
      }
    },
    {
      "cell_type": "markdown",
      "source": [
        "6.What is a string in Python, and how is it different from a list?\n",
        ">\n",
        "In Python, a string is an ordered sequence of characters, used to represent text. Strings are immutable, meaning their contents cannot be changed after creation. They are defined by enclosing characters in single quotes ('...'), double quotes (\"...\"), or triple quotes for multi-line strings ('''...''' or \"\"\"...\"\"\").\n"
      ],
      "metadata": {
        "id": "LVI3sQgosHKj"
      }
    },
    {
      "cell_type": "markdown",
      "source": [
        "7.How do tuples ensure data integrity in Python?\n",
        ">Tuples in Python ensure data integrity primarily through their immutability. This means that once a tuple is created, its elements cannot be changed, added, or removed."
      ],
      "metadata": {
        "id": "Vm4PPECBsVg-"
      }
    },
    {
      "cell_type": "markdown",
      "source": [
        "8. What is a hash table, and how does it relate to dictionaries in Python?\n",
        ">A hash table is a data structure that implements an associative array, also known as a dictionary or map. It stores data in key-value pairs, where each key is unique and maps to a specific value. The core idea behind a hash table is to use a hash function to convert a key into an index in an underlying array, allowing for efficient storage and retrieval of data."
      ],
      "metadata": {
        "id": "gApRSNdusuP1"
      }
    },
    {
      "cell_type": "markdown",
      "source": [
        "9.Can lists contain different data types in Python?\n",
        ">Yes, a Python list can contain elements of different data types. This is a key feature of Python lists, making them very versatile."
      ],
      "metadata": {
        "id": "1aXiP-mqs58G"
      }
    },
    {
      "cell_type": "markdown",
      "source": [
        "10. Explain why strings are immutable in Python?\n",
        ">Python strings are immutable, meaning that once a string object is created, its content cannot be changed. Any operation that appears to modify a string, such as concatenation or replacement, actually creates a new string object in memory."
      ],
      "metadata": {
        "id": "sGueXAsdtGq1"
      }
    },
    {
      "cell_type": "markdown",
      "source": [
        "11. What advantages do dictionaries offer over lists for certain tasks?\n",
        ">Dictionaries offer significant advantages over lists for tasks that involve data retrieval, organization, and representation based on key-value pairs, primarily because of their efficient lookups and improved readability. While lists are ordered collections accessed by a numerical index, dictionaries are unordered and accessed by a meaningful, unique key."
      ],
      "metadata": {
        "id": "9koASSI6tTCt"
      }
    },
    {
      "cell_type": "markdown",
      "source": [
        "12. Describe a scenario where using a tuple would be preferable over a list?\n",
        ">A scenario where using a tuple would be preferable over a list is when representing immutable, fixed collections of related data, such as a record or a set of coordinates.\n",
        "Consider a program that stores information about a specific location, including its latitude and longitude. This information, once defined, is unlikely to change during the program's execution."
      ],
      "metadata": {
        "id": "ltMNO9OjtiU9"
      }
    },
    {
      "cell_type": "markdown",
      "source": [
        "13.How do sets handle duplicate values in Python?\n",
        ">Python sets fundamentally do not allow duplicate values. When you attempt to add an element that already exists in a set, the set will simply ignore the addition and remain unchanged. It does not raise an error, nor does it store multiple copies of the same value."
      ],
      "metadata": {
        "id": "m1wwaqLZtwL0"
      }
    },
    {
      "cell_type": "markdown",
      "source": [
        "14. How does the “in” keyword work differently for lists and dictionaries?\n",
        ">The in keyword in Python functions differently for lists and dictionaries due to their underlying data structures and how they store and retrieve data.\n",
        "For Lists:\n",
        "When used with a list, the in operator checks for the presence of a specific element within the list's values.\n",
        "For Dictionaries:\n",
        "When used with a dictionary, the in operator checks for the presence of a specific key within the dictionary.."
      ],
      "metadata": {
        "id": "peH-6AWxuEHO"
      }
    },
    {
      "cell_type": "markdown",
      "source": [
        "15. Can you modify the elements of a tuple? Explain why or why not?\n",
        ">No, you cannot directly modify the elements of a tuple in Python. Tuples are immutable, which means their contents cannot be changed after they are created. This is a fundamental characteristic that distinguishes them from lists, which are mutable."
      ],
      "metadata": {
        "id": "AnpKHvY_uZZd"
      }
    },
    {
      "cell_type": "markdown",
      "source": [
        "16.What is a nested dictionary, and give an example of its use case?\n",
        ">A nested dictionary is a dictionary where the values associated with some or all of its keys are themselves other dictionaries. This structure allows for hierarchical organization of data, enabling the representation of complex relationships.\n",
        "Example of its Use Case: Representing Employee Data."
      ],
      "metadata": {
        "id": "z_aHLn_LuoVd"
      }
    },
    {
      "cell_type": "markdown",
      "source": [
        "17.Describe the time complexity of accessing elements in a dictionary.\n",
        ">The time complexity of accessing elements in a dictionary, such as in Python, is generally O(1) on average. This means that the time taken to retrieve a value associated with a key is constant, regardless of the number of elements in the dictionary.\n",
        "This efficiency stems from the underlying implementation of dictionaries as hash tables. When a key is used to access an element:\n",
        "Hashing: The key is passed through a hash function, which converts it into an integer hash value.\n",
        "Indexing: This hash value is then used to determine the memory location (or \"bucket\") where the corresponding value is stored.\n",
        "Because a direct calculation points to the location, the lookup time is typically independent of the dictionary's size."
      ],
      "metadata": {
        "id": "eWPKjgXGu4Ht"
      }
    },
    {
      "cell_type": "markdown",
      "source": [
        "18. In what situations are lists preferred over dictionaries?\n",
        ">Lists are preferred over dictionaries in situations where:\n",
        "Order matters: When the sequence of elements is significant and needs to be maintained, such as a list of tasks to be completed in a specific order, or a historical log of events.\n",
        "Access by index is primary: When elements are primarily accessed based on their numerical position (index), rather than by a descriptive key."
      ],
      "metadata": {
        "id": "TFXhVsnTvIjd"
      }
    },
    {
      "cell_type": "markdown",
      "source": [
        "19. Why are dictionaries considered unordered, and how does that affect data retrieval?\n",
        ">Dictionaries are considered \"unordered\" because, historically and by design, their primary purpose is fast, key-based access, not maintaining the order of insertion or any other sequence, though Python 3.7+ preserves insertion order as an implementation detail. This unordered nature means you cannot rely on a specific sequence when iterating or printing items, and data retrieval is always based on the unique key, not a positional index."
      ],
      "metadata": {
        "id": "dgpOj3IEvXf9"
      }
    },
    {
      "cell_type": "markdown",
      "source": [
        "20. Explain the difference between a list and a dictionary in terms of data retrieval.\n",
        ">The fundamental difference between lists and dictionaries in terms of data retrieval lies in their underlying structure and how elements are identified.\n",
        "Lists:\n",
        "Ordered Collection: Lists store elements in a specific, sequential order.\n",
        "Index-Based Retrieval: Data retrieval in lists relies on numerical indices, which represent the position of an element within the list. Indices start from 0 for the first element.\n",
        "ictionaries:\n",
        "Unordered Collection of Key-Value Pairs: Dictionaries store data as key-value pairs, where each unique key maps to a specific value.\n",
        "Key-Based Retrieval: Data retrieval in dictionaries relies on unique keys. To access a value, you provide its corresponding key."
      ],
      "metadata": {
        "id": "5TrOtLSovk9W"
      }
    },
    {
      "cell_type": "code",
      "execution_count": 1,
      "metadata": {
        "colab": {
          "base_uri": "https://localhost:8080/"
        },
        "id": "lN2VdTceqCEj",
        "outputId": "5506b77e-aa7b-439b-f2d6-82c1ecbcb1ff"
      },
      "outputs": [
        {
          "output_type": "stream",
          "name": "stdout",
          "text": [
            "Veeresh Pratrap Singh\n"
          ]
        }
      ],
      "source": [
        "#Question 1.\n",
        "print(\"Veeresh Pratrap Singh\")"
      ]
    },
    {
      "cell_type": "code",
      "source": [
        "#Question 2.\n",
        "my_string = \"Hello World\"\n",
        "length = len(my_string)\n",
        "print(f\"The length of the string is: {length}\")"
      ],
      "metadata": {
        "colab": {
          "base_uri": "https://localhost:8080/"
        },
        "id": "buq9jqQMwWNO",
        "outputId": "3e9705d8-12e3-48e6-cf7c-1b74621cc378"
      },
      "execution_count": 2,
      "outputs": [
        {
          "output_type": "stream",
          "name": "stdout",
          "text": [
            "The length of the string is: 11\n"
          ]
        }
      ]
    },
    {
      "cell_type": "code",
      "source": [
        "#Question 3.\n",
        "original_string = \"Python Programming\"\n",
        "sliced_string = original_string[0:3]\n",
        "print(sliced_string)"
      ],
      "metadata": {
        "colab": {
          "base_uri": "https://localhost:8080/"
        },
        "id": "KLmn79PGwkGZ",
        "outputId": "1af3015a-85a2-429c-a399-e94887c289b4"
      },
      "execution_count": 3,
      "outputs": [
        {
          "output_type": "stream",
          "name": "stdout",
          "text": [
            "Pyt\n"
          ]
        }
      ]
    },
    {
      "cell_type": "code",
      "source": [
        "#Question 4.\n",
        "original_string = \"hello\"\n",
        "uppercase_string = original_string.upper()\n",
        "print(uppercase_string)"
      ],
      "metadata": {
        "colab": {
          "base_uri": "https://localhost:8080/"
        },
        "id": "W9AJb0IvwxUF",
        "outputId": "ab2e274c-e4ae-4660-babb-97c78066bfa3"
      },
      "execution_count": 4,
      "outputs": [
        {
          "output_type": "stream",
          "name": "stdout",
          "text": [
            "HELLO\n"
          ]
        }
      ]
    },
    {
      "cell_type": "code",
      "source": [
        "#Question 5.\n",
        "original_string = \"I like apple\"\n",
        "new_string = original_string.replace(\"apple\", \"orange\")\n",
        "print(new_string)"
      ],
      "metadata": {
        "colab": {
          "base_uri": "https://localhost:8080/"
        },
        "id": "v1j_kgT3w9Ru",
        "outputId": "c2ff5e8a-7103-466d-8fa3-91c80f550ef9"
      },
      "execution_count": 5,
      "outputs": [
        {
          "output_type": "stream",
          "name": "stdout",
          "text": [
            "I like orange\n"
          ]
        }
      ]
    },
    {
      "cell_type": "code",
      "source": [
        "#Question 6.\n",
        "my_list = [1, 2, 3, 4, 5]\n",
        "print(my_list)"
      ],
      "metadata": {
        "colab": {
          "base_uri": "https://localhost:8080/"
        },
        "id": "tUc6zoGExIz1",
        "outputId": "c9aeae41-2786-47d4-fa8b-183369743cc8"
      },
      "execution_count": 6,
      "outputs": [
        {
          "output_type": "stream",
          "name": "stdout",
          "text": [
            "[1, 2, 3, 4, 5]\n"
          ]
        }
      ]
    },
    {
      "cell_type": "code",
      "source": [
        "#Question 7.\n",
        "my_list = [1, 2, 3, 4]\n",
        "my_list.append(10)\n",
        "print(my_list)"
      ],
      "metadata": {
        "colab": {
          "base_uri": "https://localhost:8080/"
        },
        "id": "_Lw2vcT4xSvh",
        "outputId": "5b6d3a2a-fc21-4af4-9181-ee506e623398"
      },
      "execution_count": 7,
      "outputs": [
        {
          "output_type": "stream",
          "name": "stdout",
          "text": [
            "[1, 2, 3, 4, 10]\n"
          ]
        }
      ]
    },
    {
      "cell_type": "code",
      "source": [
        "#Question 8.\n",
        "my_list = [1, 2, 3, 4, 5]\n",
        "my_list.remove(3)\n",
        "print(my_list)"
      ],
      "metadata": {
        "colab": {
          "base_uri": "https://localhost:8080/"
        },
        "id": "8tKDs8AAxa6r",
        "outputId": "535d0902-3f36-48a6-82ac-d4669e636a86"
      },
      "execution_count": 8,
      "outputs": [
        {
          "output_type": "stream",
          "name": "stdout",
          "text": [
            "[1, 2, 4, 5]\n"
          ]
        }
      ]
    },
    {
      "cell_type": "code",
      "source": [
        "\n",
        "#Question 9.\n",
        "my_list = ['a', 'b', 'c', 'd']\n",
        "second_element = my_list[1]\n",
        "print(second_element)"
      ],
      "metadata": {
        "colab": {
          "base_uri": "https://localhost:8080/"
        },
        "id": "xLLPPb5dxkuH",
        "outputId": "f34b05a6-f1fa-483f-8855-51c17a5137bb"
      },
      "execution_count": 9,
      "outputs": [
        {
          "output_type": "stream",
          "name": "stdout",
          "text": [
            "b\n"
          ]
        }
      ]
    },
    {
      "cell_type": "code",
      "source": [
        "#Question 10.\n",
        "my_list = [10, 20, 30, 40, 50]\n",
        "my_list.reverse()\n",
        "print(my_list)"
      ],
      "metadata": {
        "colab": {
          "base_uri": "https://localhost:8080/"
        },
        "id": "anrInYP7xs0E",
        "outputId": "589066fb-3e14-4bb7-e0b4-83b87d9a57d8"
      },
      "execution_count": 10,
      "outputs": [
        {
          "output_type": "stream",
          "name": "stdout",
          "text": [
            "[50, 40, 30, 20, 10]\n"
          ]
        }
      ]
    },
    {
      "cell_type": "code",
      "source": [
        "#Question 11.\n",
        "# Create a tuple named 'my_tuple' with the specified elements\n",
        "my_tuple = (100, 200, 300)\n",
        "\n",
        "# Print the tuple\n",
        "print(my_tuple)"
      ],
      "metadata": {
        "colab": {
          "base_uri": "https://localhost:8080/"
        },
        "id": "Mxt7muaqx0r6",
        "outputId": "f7c51bca-3ebf-435f-c680-afad5bbc9a3d"
      },
      "execution_count": 11,
      "outputs": [
        {
          "output_type": "stream",
          "name": "stdout",
          "text": [
            "(100, 200, 300)\n"
          ]
        }
      ]
    },
    {
      "cell_type": "code",
      "source": [
        "#Question 12.\n",
        "t = ('red', 'green', 'blue', 'yellow')\n",
        "\n",
        "# iterates over each element of the tuple 't'\n",
        "# and prints it\n",
        "for color in t:\n",
        "    print(color)"
      ],
      "metadata": {
        "colab": {
          "base_uri": "https://localhost:8080/"
        },
        "id": "_VbkfIDgyLvV",
        "outputId": "fe4f65dc-7350-4b03-bcff-7d155b89b41d"
      },
      "execution_count": 12,
      "outputs": [
        {
          "output_type": "stream",
          "name": "stdout",
          "text": [
            "red\n",
            "green\n",
            "blue\n",
            "yellow\n"
          ]
        }
      ]
    },
    {
      "cell_type": "code",
      "source": [
        "#Question 13.\n",
        "numbers = (10, 20, 5, 15)\n",
        "minimum_number = min(numbers)\n",
        "print(f\"The minimum number in the tuple is: {minimum_number}\")"
      ],
      "metadata": {
        "colab": {
          "base_uri": "https://localhost:8080/"
        },
        "id": "iVrBgvoAysK4",
        "outputId": "41eaf07e-40c1-4086-a62d-fe491f08c097"
      },
      "execution_count": 13,
      "outputs": [
        {
          "output_type": "stream",
          "name": "stdout",
          "text": [
            "The minimum number in the tuple is: 5\n"
          ]
        }
      ]
    },
    {
      "cell_type": "code",
      "source": [
        "#Question 14.\n",
        "my_tuple = ('dog', 'cat', 'rabbit')\n",
        "element_to_find = 'cat'\n",
        "\n",
        "try:\n",
        "    index = my_tuple.index(element_to_find)\n",
        "    print(f\"The index of '{element_to_find}' is: {index}\")\n",
        "except ValueError:\n",
        "    print(f\"'{element_to_find}' is not found in the tuple.\")"
      ],
      "metadata": {
        "colab": {
          "base_uri": "https://localhost:8080/"
        },
        "id": "Xx8QvRbmzLBk",
        "outputId": "669e7aeb-055e-466c-bbfb-5040808463d9"
      },
      "execution_count": 14,
      "outputs": [
        {
          "output_type": "stream",
          "name": "stdout",
          "text": [
            "The index of 'cat' is: 1\n"
          ]
        }
      ]
    },
    {
      "cell_type": "code",
      "source": [
        "#Quesstion 15.\n",
        "# Create a tuple containing three different fruits\n",
        "fruits_tuple = (\"apple\", \"banana\", \"orange\")\n",
        "\n",
        "# Check if \"kiwi\" is in the fruits_tuple\n",
        "if \"kiwi\" in fruits_tuple:\n",
        "    print(\"Kiwi is in the tuple.\")\n",
        "else:\n",
        "    print(\"Kiwi is not in the tuple.\")"
      ],
      "metadata": {
        "colab": {
          "base_uri": "https://localhost:8080/"
        },
        "id": "svyYz9xnzU0q",
        "outputId": "54ac88df-777b-4731-bf2b-c33ef585aa68"
      },
      "execution_count": 15,
      "outputs": [
        {
          "output_type": "stream",
          "name": "stdout",
          "text": [
            "Kiwi is not in the tuple.\n"
          ]
        }
      ]
    },
    {
      "cell_type": "code",
      "source": [
        "#Question 16.\n",
        "my_set = {'a', 'b', 'c'}\n",
        "print(my_set)"
      ],
      "metadata": {
        "colab": {
          "base_uri": "https://localhost:8080/"
        },
        "id": "dDCjf4i9zgJ4",
        "outputId": "91145600-cc1b-4d11-8bc3-4ca17a6d4771"
      },
      "execution_count": 16,
      "outputs": [
        {
          "output_type": "stream",
          "name": "stdout",
          "text": [
            "{'a', 'b', 'c'}\n"
          ]
        }
      ]
    },
    {
      "cell_type": "code",
      "source": [
        "#Question 17.\n",
        "my_set = {1, 2, 3, 4, 5}\n",
        "my_set.clear()\n",
        "print(my_set)"
      ],
      "metadata": {
        "colab": {
          "base_uri": "https://localhost:8080/"
        },
        "id": "vV-DMeH-zoko",
        "outputId": "7c2a40cd-cdc8-4a3c-a96a-d7ff72973c85"
      },
      "execution_count": 17,
      "outputs": [
        {
          "output_type": "stream",
          "name": "stdout",
          "text": [
            "set()\n"
          ]
        }
      ]
    },
    {
      "cell_type": "code",
      "source": [
        "#Question 18.\n",
        "my_set = {1, 2, 3, 4}\n",
        "my_set.remove(4)\n",
        "print(my_set)"
      ],
      "metadata": {
        "colab": {
          "base_uri": "https://localhost:8080/"
        },
        "id": "bvUHa95Pzw0O",
        "outputId": "1c90f672-2ddb-4f54-f845-e3b62f52d415"
      },
      "execution_count": 18,
      "outputs": [
        {
          "output_type": "stream",
          "name": "stdout",
          "text": [
            "{1, 2, 3}\n"
          ]
        }
      ]
    },
    {
      "cell_type": "code",
      "source": [
        "#Quesstion 19.\n",
        "set1 = {1, 2, 3}\n",
        "set2 = {3, 4, 5}\n",
        "union_set = set1.union(set2)\n",
        "# Alternatively, using the | operator:\n",
        "# union_set = set1 | set2\n",
        "print(union_set)"
      ],
      "metadata": {
        "colab": {
          "base_uri": "https://localhost:8080/"
        },
        "id": "n0yh5_pgz5uO",
        "outputId": "05f30633-2c68-4320-9540-7c2ce81875ad"
      },
      "execution_count": 22,
      "outputs": [
        {
          "output_type": "stream",
          "name": "stdout",
          "text": [
            "{1, 2, 3, 4, 5}\n"
          ]
        }
      ]
    },
    {
      "cell_type": "code",
      "source": [
        "#Question 20.\n",
        "set1 = {1, 2, 3}\n",
        "set2 = {2, 3, 4}\n",
        "\n",
        "# Using the & operator\n",
        "intersection_set_operator = set1 & set2\n",
        "print(f\"Intersection (using &): {intersection_set_operator}\")\n",
        "\n",
        "# Using the intersection() method\n",
        "intersection_set_method = set1.intersection(set2)\n",
        "print(f\"Intersection (using intersection()): {intersection_set_method}\")"
      ],
      "metadata": {
        "colab": {
          "base_uri": "https://localhost:8080/"
        },
        "id": "dJQ-pjkw0G6S",
        "outputId": "b73b954b-8344-4cf0-fce7-49252b4c0b28"
      },
      "execution_count": 24,
      "outputs": [
        {
          "output_type": "stream",
          "name": "stdout",
          "text": [
            "Intersection (using &): {2, 3}\n",
            "Intersection (using intersection()): {2, 3}\n"
          ]
        }
      ]
    },
    {
      "cell_type": "code",
      "source": [
        "#Question 21.\n",
        "# Create a dictionary with the keys \"name\", \"age\", and \"city\"\n",
        "person_info = {\n",
        "    \"name\": \"Alice\",\n",
        "    \"age\": 30,\n",
        "    \"city\": \"New York\"\n",
        "}\n",
        "\n",
        "# Print the dictionary\n",
        "print(person_info)"
      ],
      "metadata": {
        "colab": {
          "base_uri": "https://localhost:8080/"
        },
        "id": "A0QnsiRV0vKb",
        "outputId": "ee6ba4b3-089a-458f-9fdb-67322613ade6"
      },
      "execution_count": 25,
      "outputs": [
        {
          "output_type": "stream",
          "name": "stdout",
          "text": [
            "{'name': 'Alice', 'age': 30, 'city': 'New York'}\n"
          ]
        }
      ]
    },
    {
      "cell_type": "code",
      "source": [
        "#Question 22.\n",
        "my_dict = {'name': 'John', 'age': 25}\n",
        "my_dict['country'] = 'USA'\n",
        "print(my_dict)"
      ],
      "metadata": {
        "colab": {
          "base_uri": "https://localhost:8080/"
        },
        "id": "NgUPR5he0_jU",
        "outputId": "cc89a99b-aa9d-4f9d-9f53-ae18ebadcdb2"
      },
      "execution_count": 26,
      "outputs": [
        {
          "output_type": "stream",
          "name": "stdout",
          "text": [
            "{'name': 'John', 'age': 25, 'country': 'USA'}\n"
          ]
        }
      ]
    },
    {
      "cell_type": "code",
      "source": [
        "#Quesstion 23.\n",
        "my_dict = {'name': 'Alice', 'age': 30}\n",
        "name_value = my_dict['name']\n",
        "print(name_value)"
      ],
      "metadata": {
        "colab": {
          "base_uri": "https://localhost:8080/"
        },
        "id": "3_9keN0H1JAu",
        "outputId": "02569848-b299-4cbd-c956-255879962157"
      },
      "execution_count": 27,
      "outputs": [
        {
          "output_type": "stream",
          "name": "stdout",
          "text": [
            "Alice\n"
          ]
        }
      ]
    },
    {
      "cell_type": "code",
      "source": [
        "#Question 24.\n",
        "original_list = [{'name': 'Alice', 'age': 25},\n",
        "                 {'name': 'Bob', 'age': 30},\n",
        "                 {'name': 'Charlie', 'age': 22}]\n",
        "\n",
        "filtered_list = [d for d in original_list if d['age'] > 25]\n",
        "\n",
        "print(filtered_list)"
      ],
      "metadata": {
        "colab": {
          "base_uri": "https://localhost:8080/"
        },
        "id": "AglITsxu1RXV",
        "outputId": "c5b660bf-88da-45af-bce9-c7f636a24746"
      },
      "execution_count": 29,
      "outputs": [
        {
          "output_type": "stream",
          "name": "stdout",
          "text": [
            "[{'name': 'Bob', 'age': 30}]\n"
          ]
        }
      ]
    },
    {
      "cell_type": "code",
      "source": [
        "#Question 25.\n",
        "my_dict = {'name': 'Alice', 'city': 'Paris'}\n",
        "\n",
        "if \"city\" in my_dict:\n",
        "    print(\"The key 'city' exists in the dictionary.\")\n",
        "else:\n",
        "    print(\"The key 'city' does not exist in the dictionary.\")"
      ],
      "metadata": {
        "colab": {
          "base_uri": "https://localhost:8080/"
        },
        "id": "etRdZPfd1gSr",
        "outputId": "935fed13-0395-46d1-ee42-b8622a182787"
      },
      "execution_count": 30,
      "outputs": [
        {
          "output_type": "stream",
          "name": "stdout",
          "text": [
            "The key 'city' exists in the dictionary.\n"
          ]
        }
      ]
    },
    {
      "cell_type": "code",
      "source": [
        "#Question 26.\n",
        "# Create a list\n",
        "my_list = [1, 2, \"apple\", True, 3.14]\n",
        "\n",
        "# Create a tuple\n",
        "my_tuple = (10, \"banana\", False, 2.718)\n",
        "\n",
        "# Create a dictionary\n",
        "my_dictionary = {\n",
        "    \"name\": \"Alice\",\n",
        "    \"age\": 30,\n",
        "    \"city\": \"New York\"\n",
        "}\n",
        "\n",
        "# Print the list\n",
        "print(\"My List:\", my_list)\n",
        "\n",
        "# Print the tuple\n",
        "print(\"My Tuple:\", my_tuple)\n",
        "\n",
        "# Print the dictionary\n",
        "print(\"My Dictionary:\", my_dictionary)"
      ],
      "metadata": {
        "colab": {
          "base_uri": "https://localhost:8080/"
        },
        "id": "GJqJpPUm1t6T",
        "outputId": "dc7119a0-2c63-4b30-fbd1-bcc9f56765dd"
      },
      "execution_count": 31,
      "outputs": [
        {
          "output_type": "stream",
          "name": "stdout",
          "text": [
            "My List: [1, 2, 'apple', True, 3.14]\n",
            "My Tuple: (10, 'banana', False, 2.718)\n",
            "My Dictionary: {'name': 'Alice', 'age': 30, 'city': 'New York'}\n"
          ]
        }
      ]
    },
    {
      "cell_type": "code",
      "source": [
        "#Question 27.\n",
        "import random\n",
        "\n",
        "# Create a list to store the random numbers\n",
        "random_numbers = []\n",
        "\n",
        "# Generate 5 random numbers and add them to the list\n",
        "for _ in range(5):\n",
        "    number = random.randint(1, 100)  # Generates a random integer between 1 and 100 (inclusive)\n",
        "    random_numbers.append(number)\n",
        "\n",
        "# Sort the list in ascending order\n",
        "random_numbers.sort()\n",
        "\n",
        "# Print the sorted list\n",
        "print(random_numbers)\n"
      ],
      "metadata": {
        "colab": {
          "base_uri": "https://localhost:8080/"
        },
        "id": "X3pjhCeG15xE",
        "outputId": "e114c04a-d35b-4df1-9fbb-527922dabbe5"
      },
      "execution_count": 32,
      "outputs": [
        {
          "output_type": "stream",
          "name": "stdout",
          "text": [
            "[2, 11, 24, 47, 92]\n"
          ]
        }
      ]
    },
    {
      "cell_type": "code",
      "source": [
        "#Question 28.\n",
        "# Create a list containing string elements\n",
        "my_list = [\"apple\", \"banana\", \"cherry\", \"date\", \"elderberry\"]\n",
        "\n",
        "# Print the element at the third index (index 2)\n",
        "print(my_list[2])"
      ],
      "metadata": {
        "colab": {
          "base_uri": "https://localhost:8080/"
        },
        "id": "8BBtWoe22EnS",
        "outputId": "8c2586d5-cf32-4902-a293-a4721c1f5a9b"
      },
      "execution_count": 33,
      "outputs": [
        {
          "output_type": "stream",
          "name": "stdout",
          "text": [
            "cherry\n"
          ]
        }
      ]
    },
    {
      "cell_type": "code",
      "source": [
        "#Question 29.\n",
        "dict1 = {'a': 1, 'b': 2}\n",
        "dict2 = {'b': 3, 'c': 4}\n",
        "\n",
        "combined_dict = {**dict1, **dict2}\n",
        "print(combined_dict)"
      ],
      "metadata": {
        "colab": {
          "base_uri": "https://localhost:8080/"
        },
        "id": "01Ezd4902Nz-",
        "outputId": "c0d5f920-c057-49c4-862b-43575adbbcc6"
      },
      "execution_count": 34,
      "outputs": [
        {
          "output_type": "stream",
          "name": "stdout",
          "text": [
            "{'a': 1, 'b': 3, 'c': 4}\n"
          ]
        }
      ]
    },
    {
      "cell_type": "code",
      "source": [
        "#Question 30.\n",
        "# Create a list of strings\n",
        "my_list = [\"apple\", \"banana\", \"orange\", \"apple\", \"grape\"]\n",
        "\n",
        "# Convert the list to a set\n",
        "my_set = set(my_list)\n",
        "\n",
        "# Print the resulting set\n",
        "print(my_set)"
      ],
      "metadata": {
        "colab": {
          "base_uri": "https://localhost:8080/"
        },
        "id": "UOqOfW0S2YEG",
        "outputId": "875a4533-8ebf-4c45-f9b1-5258b3e16fc0"
      },
      "execution_count": 35,
      "outputs": [
        {
          "output_type": "stream",
          "name": "stdout",
          "text": [
            "{'grape', 'orange', 'apple', 'banana'}\n"
          ]
        }
      ]
    },
    {
      "cell_type": "code",
      "source": [],
      "metadata": {
        "id": "kHuRuISU2fVc"
      },
      "execution_count": null,
      "outputs": []
    }
  ]
}